{
  "cells": [
    {
      "cell_type": "markdown",
      "metadata": {},
      "source": [
        "# Boston Housing Predictor - Consolidated Evaluation\n",
        "\n",
        "This notebook compares three paths under a strict constraint:\n",
        "1) Chronological Baseline, \n",
        "2) Chronological Robust, \n",
        "3) Random Split Baseline.\n"
      ]
    },
    {
      "cell_type": "code",
      "execution_count": 1,
      "metadata": {},
      "outputs": [
        {
          "name": "stdout",
          "output_type": "stream",
          "text": [
            "Libraries imported\n"
          ]
        }
      ],
      "source": [
        "import numpy as np\n",
        "import pandas as pd\n",
        "from sklearn.preprocessing import RobustScaler\n",
        "from sklearn.metrics import mean_squared_error, mean_absolute_error, r2_score\n",
        "from sklearn.svm import SVR\n",
        "from sklearn.ensemble import GradientBoostingRegressor\n",
        "from sklearn.model_selection import train_test_split, ParameterGrid\n",
        "import warnings\n",
        "warnings.filterwarnings('ignore')\n",
        "np.random.seed(42)\n",
        "print('Libraries imported')\n"
      ]
    },
    {
      "cell_type": "markdown",
      "metadata": {},
      "source": [
        "## 1. Data & Split Functions\n"
      ]
    },
    {
      "cell_type": "code",
      "execution_count": 2,
      "metadata": {},
      "outputs": [
        {
          "name": "stdout",
          "output_type": "stream",
          "text": [
            "Data ready: (490, 13)\n"
          ]
        }
      ],
      "source": [
        "cols=['CRIM','ZN','INDUS','CHAS','NOX','RM','AGE','DIS','RAD','TAX','PTRATIO','B','LSTAT','MEDV']\n",
        "data=pd.read_csv('data/housing.csv', names=cols, delim_whitespace=True)\n",
        "data=data[data['MEDV']<50.0].copy()\n",
        "X=data.drop('MEDV',axis=1); y=data['MEDV']\n",
        "def split_chrono(X,y,train_size=0.7):\n",
        "    s=int(len(X)*train_size); return X.iloc[:s],X.iloc[s:],y.iloc[:s],y.iloc[s:]\n",
        "def split_random(X,y,train_size=0.7):\n",
        "    return train_test_split(X,y,test_size=1-train_size,random_state=42,shuffle=True)\n",
        "print('Data ready:',X.shape)\n"
      ]
    },
    {
      "cell_type": "markdown",
      "metadata": {},
      "source": [
        "## 2. Stability Analysis (select 8 stable features)\n"
      ]
    },
    {
      "cell_type": "code",
      "execution_count": 3,
      "metadata": {},
      "outputs": [
        {
          "name": "stdout",
          "output_type": "stream",
          "text": [
            "Stable features: ['RM', 'AGE', 'LSTAT', 'ZN', 'DIS', 'NOX', 'INDUS', 'PTRATIO']\n"
          ]
        }
      ],
      "source": [
        "def stability_scores(X,n_splits=10):\n",
        "    n=len(X); size=n//n_splits; out={}\n",
        "    for c in X.columns:\n",
        "        if c=='CHAS':\n",
        "            continue\n",
        "        means=[]; stds=[]\n",
        "        for i in range(n_splits):\n",
        "            s=i*size; e=s+size if i<n_splits-1 else n\n",
        "            seg=X.iloc[s:e][c]\n",
        "            means.append(seg.mean()); stds.append(seg.std())\n",
        "        mv=np.var(means); sv=np.var(stds); ov=X[c].var()\n",
        "        r=(mv/ov if ov>0 else 0)+(sv/ov if ov>0 else 0)\n",
        "        out[c]=r\n",
        "    return pd.Series(out).sort_values()\n",
        "stab=stability_scores(X)\n",
        "stable=stab.head(8).index.tolist()\n",
        "print('Stable features:',stable)\n"
      ]
    },
    {
      "cell_type": "markdown",
      "metadata": {},
      "source": [
        "## 3. Phase 2 Transforms (helpers)\n"
      ]
    },
    {
      "cell_type": "code",
      "execution_count": 4,
      "metadata": {},
      "outputs": [],
      "source": [
        "def winsorize_train(Xtr,Xte,low=0.01,high=0.99):\n",
        "    Xtr=Xtr.copy(); Xte=Xte.copy(); qs=Xtr.quantile([low,high])\n",
        "    for c in Xtr.columns:\n",
        "        l,h=qs.loc[low,c],qs.loc[high,c]\n",
        "        Xtr[c]=Xtr[c].clip(l,h); Xte[c]=Xte[c].clip(l,h)\n",
        "    return Xtr,Xte\n",
        "def add_log1p(Xtr,Xte):\n",
        "    Xtr=Xtr.copy(); Xte=Xte.copy()\n",
        "    for c in list(Xtr.columns):\n",
        "        if (Xtr[c]>0).all() and (Xte[c]>0).all():\n",
        "            Xtr[c+'_log1p']=np.log1p(Xtr[c]); Xte[c+'_log1p']=np.log1p(Xte[c])\n",
        "    return Xtr,Xte\n",
        "def add_ratio_diff(Xtr,Xte,pairs):\n",
        "    Xtr=Xtr.copy(); Xte=Xte.copy()\n",
        "    for a,b in pairs:\n",
        "        if a in Xtr.columns and b in Xtr.columns:\n",
        "            dt=np.where(Xtr[b]==0,1e-6,Xtr[b]); de=np.where(Xte[b]==0,1e-6,Xte[b])\n",
        "            Xtr[f'{a}_over_{b}']=Xtr[a]/dt; Xte[f'{a}_over_{b}']=Xte[a]/de\n",
        "            Xtr[f'{a}_minus_{b}']=Xtr[a]-Xtr[b]; Xte[f'{a}_minus_{b}']=Xte[a]-Xte[b]\n",
        "    return Xtr,Xte\n",
        "def forward_cv_indices(n,k=5):\n",
        "    sizes=np.linspace(0.6,0.95,k); idx=np.arange(n); folds=[]\n",
        "    for s in sizes:\n",
        "        sp=int(n*s);\n",
        "        if sp<n-1: folds.append((idx[:sp],idx[sp:]))\n",
        "    return folds\n",
        "def tune(model_name,Xtr,ytr):\n",
        "    folds=forward_cv_indices(len(Xtr),k=5); res=[]\n",
        "    if model_name=='SVR':\n",
        "        base=SVR(kernel='rbf'); grid=ParameterGrid({'C':[0.5,1,3,10],'gamma':['scale',0.05,0.1,0.2]})\n",
        "    else:\n",
        "        base=GradientBoostingRegressor(random_state=42); grid=ParameterGrid({'n_estimators':[200,300,500],'learning_rate':[0.03,0.05],'max_depth':[2,3]})\n",
        "    for p in grid:\n",
        "        rmses=[]\n",
        "        for tr,va in folds:\n",
        "            m=base.set_params(**p)\n",
        "            m.fit(Xtr[tr],ytr.iloc[tr]); pr=m.predict(Xtr[va])\n",
        "            rmses.append(np.sqrt(mean_squared_error(ytr.iloc[va],pr)))\n",
        "        res.append((np.mean(rmses),p))\n",
        "    res.sort(key=lambda x:x[0]); return res[0] if res else None\n",
        "def calibrate(y_true,y_pred):\n",
        "    Xc=np.vstack([y_pred,np.ones_like(y_pred)]).T\n",
        "    a,b=np.linalg.lstsq(Xc,y_true,rcond=None)[0]\n",
        "    return a,b\n",
        "def apply_cal(y_pred,a,b): return a*y_pred+b\n"
      ]
    },
    {
      "cell_type": "markdown",
      "metadata": {},
      "source": [
        "## 4. Chronological Baseline\n"
      ]
    },
    {
      "cell_type": "code",
      "execution_count": 5,
      "metadata": {},
      "outputs": [
        {
          "name": "stdout",
          "output_type": "stream",
          "text": [
            "Chronological Baseline: {'SVR': {'rmse': 5.665488167160758, 'mae': 4.596780248244526, 'r2': -0.08802542941982483}, 'GB': {'rmse': 6.280568363925484, 'mae': 4.785931919114244, 'r2': -0.33709500597237896}}\n"
          ]
        }
      ],
      "source": [
        "Xtr0,Xte0,ytr0,yte0=split_chrono(X,y)\n",
        "Xtr0=Xtr0[stable].copy(); Xte0=Xte0[stable].copy()\n",
        "sc0=RobustScaler(); Xtr0s=sc0.fit_transform(Xtr0); Xte0s=sc0.transform(Xte0)\n",
        "svr0=SVR(kernel='rbf'); gb0=GradientBoostingRegressor(random_state=42)\n",
        "def eval_model(m,Xtr,Xte,ytr,yte):\n",
        "    m.fit(Xtr,ytr); pr=m.predict(Xte)\n",
        "    return {\"rmse\":float(np.sqrt(mean_squared_error(yte,pr))),\"mae\":float(np.mean(np.abs(yte-pr))),\"r2\":float(r2_score(yte,pr))}\n",
        "res_chrono_base={'SVR':eval_model(svr0,Xtr0s,Xte0s,ytr0,yte0),'GB':eval_model(gb0,Xtr0s,Xte0s,ytr0,yte0)}\n",
        "print('Chronological Baseline:',res_chrono_base)\n"
      ]
    },
    {
      "cell_type": "markdown",
      "metadata": {},
      "source": [
        "## 5. Chronological Robust (Phase 2)\n"
      ]
    },
    {
      "cell_type": "code",
      "execution_count": 6,
      "metadata": {},
      "outputs": [
        {
          "name": "stdout",
          "output_type": "stream",
          "text": [
            "Chronological Robust: {'SVR': {'raw': {'rmse': 3.8148215998506605, 'mae': 2.946445633352555, 'r2': 0.5066980432398386}, 'cal': {'rmse': 3.754014910433982, 'mae': 2.8768503456755274, 'r2': 0.5222987709097938}}, 'GB': {'raw': {'rmse': 6.000420708725305, 'mae': 4.645814648425812, 'r2': -0.2204718717088967}, 'cal': {'rmse': 5.954715288615823, 'mae': 4.58256401254189, 'r2': -0.20194992636785525}}}\n"
          ]
        }
      ],
      "source": [
        "Xtr1,Xte1,ytr1,yte1=split_chrono(X,y)\n",
        "Xtr1=Xtr1[stable].copy(); Xte1=Xte1[stable].copy()\n",
        "Xtr1w,Xte1w=winsorize_train(Xtr1,Xte1)\n",
        "Xtr1m,Xte1m=add_log1p(Xtr1w,Xte1w)\n",
        "Xtr1f,Xte1f=add_ratio_diff(Xtr1m,Xte1m,[('LSTAT','RM'),('NOX','DIS')])\n",
        "sc1=RobustScaler(); Xtr1s=sc1.fit_transform(Xtr1f); Xte1s=sc1.transform(Xte1f)\n",
        "best_svr=tune('SVR',Xtr1s,ytr1); best_gb=tune('GB',Xtr1s,ytr1)\n",
        "svr1=SVR(kernel='rbf',**(best_svr[1] if best_svr else {}))\n",
        "gb1=GradientBoostingRegressor(random_state=42,**(best_gb[1] if best_gb else {}))\n",
        "# Train and calibrate\n",
        "def eval_with_cal(m,Xtr,Xte,ytr,yte):\n",
        "    m.fit(Xtr,ytr); pr_tr=m.predict(Xtr); a,b=calibrate(ytr.values,pr_tr); pr=m.predict(Xte); pr_c=apply_cal(pr,a,b)\n",
        "    raw={'rmse':float(np.sqrt(mean_squared_error(yte,pr))),'mae':float(np.mean(np.abs(yte-pr))),'r2':float(r2_score(yte,pr))}\n",
        "    cal={'rmse':float(np.sqrt(mean_squared_error(yte,pr_c))),'mae':float(np.mean(np.abs(yte-pr_c))),'r2':float(r2_score(yte,pr_c))}\n",
        "    return {'raw':raw,'cal':cal}\n",
        "res_chrono_robust={'SVR':eval_with_cal(svr1,Xtr1s,Xte1s,ytr1,yte1),'GB':eval_with_cal(gb1,Xtr1s,Xte1s,ytr1,yte1)}\n",
        "print('Chronological Robust:',res_chrono_robust)\n"
      ]
    },
    {
      "cell_type": "markdown",
      "metadata": {},
      "source": [
        "## 6. Random Split Baseline\n"
      ]
    },
    {
      "cell_type": "code",
      "execution_count": 7,
      "metadata": {},
      "outputs": [
        {
          "name": "stdout",
          "output_type": "stream",
          "text": [
            "Random Baseline: {'SVR': {'rmse': 3.667860625289897, 'mae': 2.6133031484287117, 'r2': 0.7474962664873894}, 'GB': {'rmse': 2.5779021167343608, 'mae': 1.875790307720292, 'r2': 0.8752688285961052}}\n"
          ]
        }
      ],
      "source": [
        "Xtr2,Xte2,ytr2,yte2=split_random(X,y)\n",
        "Xtr2=Xtr2[stable].copy(); Xte2=Xte2[stable].copy()\n",
        "sc2=RobustScaler(); Xtr2s=sc2.fit_transform(Xtr2); Xte2s=sc2.transform(Xte2)\n",
        "svr2=SVR(kernel='rbf'); gb2=GradientBoostingRegressor(random_state=42)\n",
        "res_random_base={'SVR':eval_model(svr2,Xtr2s,Xte2s,ytr2,yte2),'GB':eval_model(gb2,Xtr2s,Xte2s,ytr2,yte2)}\n",
        "print('Random Baseline:',res_random_base)\n"
      ]
    },
    {
      "cell_type": "markdown",
      "metadata": {},
      "source": [
        "## 7. Comparison Summary\n"
      ]
    },
    {
      "cell_type": "code",
      "execution_count": 8,
      "metadata": {},
      "outputs": [
        {
          "name": "stdout",
          "output_type": "stream",
          "text": [
            "         path    best     rmse     mae        r2\n",
            "  Chrono-Base     SVR 5.665488 4.59678 -0.088025\n",
            "Chrono-Robust SVR-cal 3.754015 2.87685  0.522299\n",
            "  Random-Base      GB 2.577902 1.87579  0.875269\n"
          ]
        }
      ],
      "source": [
        "# Build a compact table\n",
        "def pick_best(res):\n",
        "    if 'raw' in res.get('SVR',{}):\n",
        "        # robust path\n",
        "        candidates=[('SVR-raw',res['SVR']['raw']),('SVR-cal',res['SVR']['cal']),('GB-raw',res['GB']['raw']),('GB-cal',res['GB']['cal'])]\n",
        "    else:\n",
        "        candidates=[('SVR',res['SVR']),('GB',res['GB'])]\n",
        "    best=min(candidates,key=lambda x:x[1]['rmse'])\n",
        "    return best[0],best[1]\n",
        "b1,b1m=pick_best(res_chrono_base)\n",
        "b2,b2m=pick_best(res_chrono_robust)\n",
        "b3,b3m=pick_best(res_random_base)\n",
        "df=pd.DataFrame([\n",
        "                    {'path':'Chrono-Base','best':b1,**b1m},\n",
        "                    {'path':'Chrono-Robust','best':b2,**b2m},\n",
        "                    {'path':'Random-Base','best':b3,**b3m}\n",
        "] )\n",
        "print(df.to_string(index=False))\n"
      ]
    }
  ],
  "metadata": {
    "kernelspec": {
      "display_name": ".venv",
      "language": "python",
      "name": "python3"
    },
    "language_info": {
      "codemirror_mode": {
        "name": "ipython",
        "version": 3
      },
      "file_extension": ".py",
      "mimetype": "text/x-python",
      "name": "python",
      "nbconvert_exporter": "python",
      "pygments_lexer": "ipython3",
      "version": "3.12.0"
    }
  },
  "nbformat": 4,
  "nbformat_minor": 4
}
